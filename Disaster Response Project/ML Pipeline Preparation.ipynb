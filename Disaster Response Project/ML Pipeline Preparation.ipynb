{
 "cells": [
  {
   "cell_type": "markdown",
   "metadata": {},
   "source": [
    "# ML Pipeline Preparation\n",
    "Follow the instructions below to help you create your ML pipeline.\n",
    "### 1. Import libraries and load data from database.\n",
    "- Import Python libraries\n",
    "- Load dataset from database with [`read_sql_table`](https://pandas.pydata.org/pandas-docs/stable/generated/pandas.read_sql_table.html)\n",
    "- Define feature and target variables X and Y"
   ]
  },
  {
   "cell_type": "code",
   "execution_count": 1,
   "metadata": {},
   "outputs": [],
   "source": [
    "# import libraries\n",
    "import pandas as pd\n",
    "import numpy as np\n",
    "import re\n",
    "#import os\n",
    "from sqlalchemy import create_engine\n",
    "import sys\n",
    "import pickle\n",
    "import time\n",
    "\n",
    "from sklearn.pipeline import Pipeline, FeatureUnion\n",
    "from sklearn.model_selection import train_test_split\n",
    "from sklearn.model_selection import GridSearchCV\n",
    "from sklearn.ensemble import GradientBoostingClassifier, RandomForestClassifier, AdaBoostClassifier\n",
    "from sklearn.metrics import classification_report, f1_score, make_scorer\n",
    "from sklearn.metrics import confusion_matrix\n",
    "from sklearn.metrics import fbeta_score, make_scorer\n",
    "from sklearn.feature_extraction.text import TfidfTransformer, CountVectorizer\n",
    "from sklearn.multioutput import MultiOutputClassifier\n",
    "from sklearn.base import BaseEstimator,TransformerMixin\n",
    "\n",
    "from scipy.stats import gmean"
   ]
  },
  {
   "cell_type": "code",
   "execution_count": 2,
   "metadata": {},
   "outputs": [
    {
     "name": "stderr",
     "output_type": "stream",
     "text": [
      "[nltk_data] Downloading package punkt to\n",
      "[nltk_data]     C:\\Users\\e193690\\AppData\\Roaming\\nltk_data...\n",
      "[nltk_data]   Package punkt is already up-to-date!\n",
      "[nltk_data] Downloading package wordnet to\n",
      "[nltk_data]     C:\\Users\\e193690\\AppData\\Roaming\\nltk_data...\n",
      "[nltk_data]   Package wordnet is already up-to-date!\n",
      "[nltk_data] Downloading package averaged_perceptron_tagger to\n",
      "[nltk_data]     C:\\Users\\e193690\\AppData\\Roaming\\nltk_data...\n",
      "[nltk_data]   Package averaged_perceptron_tagger is already up-to-\n",
      "[nltk_data]       date!\n"
     ]
    },
    {
     "data": {
      "text/plain": [
       "True"
      ]
     },
     "execution_count": 2,
     "metadata": {},
     "output_type": "execute_result"
    }
   ],
   "source": [
    "import nltk\n",
    "from nltk.tokenize import word_tokenize\n",
    "from nltk.stem import WordNetLemmatizer\n",
    "nltk.download(['punkt', 'wordnet', 'averaged_perceptron_tagger'])"
   ]
  },
  {
   "cell_type": "code",
   "execution_count": 3,
   "metadata": {},
   "outputs": [
    {
     "data": {
      "text/html": [
       "<div>\n",
       "<style scoped>\n",
       "    .dataframe tbody tr th:only-of-type {\n",
       "        vertical-align: middle;\n",
       "    }\n",
       "\n",
       "    .dataframe tbody tr th {\n",
       "        vertical-align: top;\n",
       "    }\n",
       "\n",
       "    .dataframe thead th {\n",
       "        text-align: right;\n",
       "    }\n",
       "</style>\n",
       "<table border=\"1\" class=\"dataframe\">\n",
       "  <thead>\n",
       "    <tr style=\"text-align: right;\">\n",
       "      <th></th>\n",
       "      <th>id</th>\n",
       "      <th>message</th>\n",
       "      <th>original</th>\n",
       "      <th>genre</th>\n",
       "      <th>related</th>\n",
       "      <th>request</th>\n",
       "      <th>offer</th>\n",
       "      <th>aid_related</th>\n",
       "      <th>medical_help</th>\n",
       "      <th>medical_products</th>\n",
       "      <th>search_and_rescue</th>\n",
       "      <th>security</th>\n",
       "      <th>military</th>\n",
       "      <th>child_alone</th>\n",
       "      <th>water</th>\n",
       "      <th>food</th>\n",
       "      <th>shelter</th>\n",
       "      <th>clothing</th>\n",
       "      <th>money</th>\n",
       "      <th>missing_people</th>\n",
       "      <th>refugees</th>\n",
       "      <th>death</th>\n",
       "      <th>other_aid</th>\n",
       "      <th>infrastructure_related</th>\n",
       "      <th>transport</th>\n",
       "      <th>buildings</th>\n",
       "      <th>electricity</th>\n",
       "      <th>tools</th>\n",
       "      <th>hospitals</th>\n",
       "      <th>shops</th>\n",
       "      <th>aid_centers</th>\n",
       "      <th>other_infrastructure</th>\n",
       "      <th>weather_related</th>\n",
       "      <th>floods</th>\n",
       "      <th>storm</th>\n",
       "      <th>fire</th>\n",
       "      <th>earthquake</th>\n",
       "      <th>cold</th>\n",
       "      <th>other_weather</th>\n",
       "      <th>direct_report</th>\n",
       "    </tr>\n",
       "  </thead>\n",
       "  <tbody>\n",
       "    <tr>\n",
       "      <th>0</th>\n",
       "      <td>2</td>\n",
       "      <td>Weather update -...</td>\n",
       "      <td>Un front froid s...</td>\n",
       "      <td>direct</td>\n",
       "      <td>1</td>\n",
       "      <td>0</td>\n",
       "      <td>0</td>\n",
       "      <td>0</td>\n",
       "      <td>0</td>\n",
       "      <td>0</td>\n",
       "      <td>0</td>\n",
       "      <td>0</td>\n",
       "      <td>0</td>\n",
       "      <td>0</td>\n",
       "      <td>0</td>\n",
       "      <td>0</td>\n",
       "      <td>0</td>\n",
       "      <td>0</td>\n",
       "      <td>0</td>\n",
       "      <td>0</td>\n",
       "      <td>0</td>\n",
       "      <td>0</td>\n",
       "      <td>0</td>\n",
       "      <td>0</td>\n",
       "      <td>0</td>\n",
       "      <td>0</td>\n",
       "      <td>0</td>\n",
       "      <td>0</td>\n",
       "      <td>0</td>\n",
       "      <td>0</td>\n",
       "      <td>0</td>\n",
       "      <td>0</td>\n",
       "      <td>0</td>\n",
       "      <td>0</td>\n",
       "      <td>0</td>\n",
       "      <td>0</td>\n",
       "      <td>0</td>\n",
       "      <td>0</td>\n",
       "      <td>0</td>\n",
       "      <td>0</td>\n",
       "    </tr>\n",
       "    <tr>\n",
       "      <th>1</th>\n",
       "      <td>7</td>\n",
       "      <td>Is the Hurricane...</td>\n",
       "      <td>Cyclone nan fini...</td>\n",
       "      <td>direct</td>\n",
       "      <td>1</td>\n",
       "      <td>0</td>\n",
       "      <td>0</td>\n",
       "      <td>1</td>\n",
       "      <td>0</td>\n",
       "      <td>0</td>\n",
       "      <td>0</td>\n",
       "      <td>0</td>\n",
       "      <td>0</td>\n",
       "      <td>0</td>\n",
       "      <td>0</td>\n",
       "      <td>0</td>\n",
       "      <td>0</td>\n",
       "      <td>0</td>\n",
       "      <td>0</td>\n",
       "      <td>0</td>\n",
       "      <td>0</td>\n",
       "      <td>0</td>\n",
       "      <td>1</td>\n",
       "      <td>0</td>\n",
       "      <td>0</td>\n",
       "      <td>0</td>\n",
       "      <td>0</td>\n",
       "      <td>0</td>\n",
       "      <td>0</td>\n",
       "      <td>0</td>\n",
       "      <td>0</td>\n",
       "      <td>0</td>\n",
       "      <td>1</td>\n",
       "      <td>0</td>\n",
       "      <td>1</td>\n",
       "      <td>0</td>\n",
       "      <td>0</td>\n",
       "      <td>0</td>\n",
       "      <td>0</td>\n",
       "      <td>0</td>\n",
       "    </tr>\n",
       "    <tr>\n",
       "      <th>2</th>\n",
       "      <td>8</td>\n",
       "      <td>Looking for some...</td>\n",
       "      <td>Patnm, di Maryan...</td>\n",
       "      <td>direct</td>\n",
       "      <td>1</td>\n",
       "      <td>0</td>\n",
       "      <td>0</td>\n",
       "      <td>0</td>\n",
       "      <td>0</td>\n",
       "      <td>0</td>\n",
       "      <td>0</td>\n",
       "      <td>0</td>\n",
       "      <td>0</td>\n",
       "      <td>0</td>\n",
       "      <td>0</td>\n",
       "      <td>0</td>\n",
       "      <td>0</td>\n",
       "      <td>0</td>\n",
       "      <td>0</td>\n",
       "      <td>0</td>\n",
       "      <td>0</td>\n",
       "      <td>0</td>\n",
       "      <td>0</td>\n",
       "      <td>0</td>\n",
       "      <td>0</td>\n",
       "      <td>0</td>\n",
       "      <td>0</td>\n",
       "      <td>0</td>\n",
       "      <td>0</td>\n",
       "      <td>0</td>\n",
       "      <td>0</td>\n",
       "      <td>0</td>\n",
       "      <td>0</td>\n",
       "      <td>0</td>\n",
       "      <td>0</td>\n",
       "      <td>0</td>\n",
       "      <td>0</td>\n",
       "      <td>0</td>\n",
       "      <td>0</td>\n",
       "      <td>0</td>\n",
       "    </tr>\n",
       "    <tr>\n",
       "      <th>3</th>\n",
       "      <td>9</td>\n",
       "      <td>UN reports Leoga...</td>\n",
       "      <td>UN reports Leoga...</td>\n",
       "      <td>direct</td>\n",
       "      <td>1</td>\n",
       "      <td>1</td>\n",
       "      <td>0</td>\n",
       "      <td>1</td>\n",
       "      <td>0</td>\n",
       "      <td>1</td>\n",
       "      <td>0</td>\n",
       "      <td>0</td>\n",
       "      <td>0</td>\n",
       "      <td>0</td>\n",
       "      <td>0</td>\n",
       "      <td>0</td>\n",
       "      <td>0</td>\n",
       "      <td>0</td>\n",
       "      <td>0</td>\n",
       "      <td>0</td>\n",
       "      <td>0</td>\n",
       "      <td>0</td>\n",
       "      <td>1</td>\n",
       "      <td>1</td>\n",
       "      <td>0</td>\n",
       "      <td>1</td>\n",
       "      <td>0</td>\n",
       "      <td>0</td>\n",
       "      <td>1</td>\n",
       "      <td>0</td>\n",
       "      <td>0</td>\n",
       "      <td>0</td>\n",
       "      <td>0</td>\n",
       "      <td>0</td>\n",
       "      <td>0</td>\n",
       "      <td>0</td>\n",
       "      <td>0</td>\n",
       "      <td>0</td>\n",
       "      <td>0</td>\n",
       "      <td>0</td>\n",
       "    </tr>\n",
       "    <tr>\n",
       "      <th>4</th>\n",
       "      <td>12</td>\n",
       "      <td>says: west side ...</td>\n",
       "      <td>facade ouest d H...</td>\n",
       "      <td>direct</td>\n",
       "      <td>1</td>\n",
       "      <td>0</td>\n",
       "      <td>0</td>\n",
       "      <td>0</td>\n",
       "      <td>0</td>\n",
       "      <td>0</td>\n",
       "      <td>0</td>\n",
       "      <td>0</td>\n",
       "      <td>0</td>\n",
       "      <td>0</td>\n",
       "      <td>0</td>\n",
       "      <td>0</td>\n",
       "      <td>0</td>\n",
       "      <td>0</td>\n",
       "      <td>0</td>\n",
       "      <td>0</td>\n",
       "      <td>0</td>\n",
       "      <td>0</td>\n",
       "      <td>0</td>\n",
       "      <td>0</td>\n",
       "      <td>0</td>\n",
       "      <td>0</td>\n",
       "      <td>0</td>\n",
       "      <td>0</td>\n",
       "      <td>0</td>\n",
       "      <td>0</td>\n",
       "      <td>0</td>\n",
       "      <td>0</td>\n",
       "      <td>0</td>\n",
       "      <td>0</td>\n",
       "      <td>0</td>\n",
       "      <td>0</td>\n",
       "      <td>0</td>\n",
       "      <td>0</td>\n",
       "      <td>0</td>\n",
       "      <td>0</td>\n",
       "    </tr>\n",
       "  </tbody>\n",
       "</table>\n",
       "</div>"
      ],
      "text/plain": [
       "   id              message             original   genre  related  request  \\\n",
       "0   2  Weather update -...  Un front froid s...  direct        1        0   \n",
       "1   7  Is the Hurricane...  Cyclone nan fini...  direct        1        0   \n",
       "2   8  Looking for some...  Patnm, di Maryan...  direct        1        0   \n",
       "3   9  UN reports Leoga...  UN reports Leoga...  direct        1        1   \n",
       "4  12  says: west side ...  facade ouest d H...  direct        1        0   \n",
       "\n",
       "   offer  aid_related  medical_help  medical_products  search_and_rescue  \\\n",
       "0      0            0             0                 0                  0   \n",
       "1      0            1             0                 0                  0   \n",
       "2      0            0             0                 0                  0   \n",
       "3      0            1             0                 1                  0   \n",
       "4      0            0             0                 0                  0   \n",
       "\n",
       "   security  military  child_alone  water  food  shelter  clothing  money  \\\n",
       "0         0         0            0      0     0        0         0      0   \n",
       "1         0         0            0      0     0        0         0      0   \n",
       "2         0         0            0      0     0        0         0      0   \n",
       "3         0         0            0      0     0        0         0      0   \n",
       "4         0         0            0      0     0        0         0      0   \n",
       "\n",
       "   missing_people  refugees  death  other_aid  infrastructure_related  \\\n",
       "0               0         0      0          0                    0      \n",
       "1               0         0      0          1                    0      \n",
       "2               0         0      0          0                    0      \n",
       "3               0         0      0          1                    1      \n",
       "4               0         0      0          0                    0      \n",
       "\n",
       "   transport  buildings  electricity  tools  hospitals  shops  aid_centers  \\\n",
       "0          0          0            0      0          0      0            0   \n",
       "1          0          0            0      0          0      0            0   \n",
       "2          0          0            0      0          0      0            0   \n",
       "3          0          1            0      0          1      0            0   \n",
       "4          0          0            0      0          0      0            0   \n",
       "\n",
       "   other_infrastructure  weather_related  floods  storm  fire  earthquake  \\\n",
       "0                    0                 0       0      0     0           0   \n",
       "1                    0                 1       0      1     0           0   \n",
       "2                    0                 0       0      0     0           0   \n",
       "3                    0                 0       0      0     0           0   \n",
       "4                    0                 0       0      0     0           0   \n",
       "\n",
       "   cold  other_weather  direct_report  \n",
       "0     0              0              0  \n",
       "1     0              0              0  \n",
       "2     0              0              0  \n",
       "3     0              0              0  \n",
       "4     0              0              0  "
      ]
     },
     "execution_count": 3,
     "metadata": {},
     "output_type": "execute_result"
    }
   ],
   "source": [
    "# load data from database\n",
    "database_filepath = './data/DisasterResponse.db'\n",
    "engine = create_engine('sqlite:///' + database_filepath)\n",
    "table_name = 'Disaster_response'\n",
    "df = pd.read_sql_table(table_name,engine)\n",
    "pd.set_option(('display.max_columns'), 100)\n",
    "pd.set_option(('display.max_colwidth'), 20)\n",
    "df.head()"
   ]
  },
  {
   "cell_type": "code",
   "execution_count": 4,
   "metadata": {},
   "outputs": [
    {
     "data": {
      "text/plain": [
       "(26216, 40)"
      ]
     },
     "execution_count": 4,
     "metadata": {},
     "output_type": "execute_result"
    }
   ],
   "source": [
    "df.shape"
   ]
  },
  {
   "cell_type": "code",
   "execution_count": 5,
   "metadata": {},
   "outputs": [
    {
     "data": {
      "text/html": [
       "<div>\n",
       "<style scoped>\n",
       "    .dataframe tbody tr th:only-of-type {\n",
       "        vertical-align: middle;\n",
       "    }\n",
       "\n",
       "    .dataframe tbody tr th {\n",
       "        vertical-align: top;\n",
       "    }\n",
       "\n",
       "    .dataframe thead th {\n",
       "        text-align: right;\n",
       "    }\n",
       "</style>\n",
       "<table border=\"1\" class=\"dataframe\">\n",
       "  <thead>\n",
       "    <tr style=\"text-align: right;\">\n",
       "      <th></th>\n",
       "      <th>id</th>\n",
       "      <th>related</th>\n",
       "      <th>request</th>\n",
       "      <th>offer</th>\n",
       "      <th>aid_related</th>\n",
       "      <th>medical_help</th>\n",
       "      <th>medical_products</th>\n",
       "      <th>search_and_rescue</th>\n",
       "      <th>security</th>\n",
       "      <th>military</th>\n",
       "      <th>child_alone</th>\n",
       "      <th>water</th>\n",
       "      <th>food</th>\n",
       "      <th>shelter</th>\n",
       "      <th>clothing</th>\n",
       "      <th>money</th>\n",
       "      <th>missing_people</th>\n",
       "      <th>refugees</th>\n",
       "      <th>death</th>\n",
       "      <th>other_aid</th>\n",
       "      <th>infrastructure_related</th>\n",
       "      <th>transport</th>\n",
       "      <th>buildings</th>\n",
       "      <th>electricity</th>\n",
       "      <th>tools</th>\n",
       "      <th>hospitals</th>\n",
       "      <th>shops</th>\n",
       "      <th>aid_centers</th>\n",
       "      <th>other_infrastructure</th>\n",
       "      <th>weather_related</th>\n",
       "      <th>floods</th>\n",
       "      <th>storm</th>\n",
       "      <th>fire</th>\n",
       "      <th>earthquake</th>\n",
       "      <th>cold</th>\n",
       "      <th>other_weather</th>\n",
       "      <th>direct_report</th>\n",
       "    </tr>\n",
       "  </thead>\n",
       "  <tbody>\n",
       "    <tr>\n",
       "      <th>count</th>\n",
       "      <td>26216.00000</td>\n",
       "      <td>26216.000000</td>\n",
       "      <td>26216.000000</td>\n",
       "      <td>26216.000000</td>\n",
       "      <td>26216.000000</td>\n",
       "      <td>26216.000000</td>\n",
       "      <td>26216.000000</td>\n",
       "      <td>26216.000000</td>\n",
       "      <td>26216.000000</td>\n",
       "      <td>26216.000000</td>\n",
       "      <td>26216.0</td>\n",
       "      <td>26216.000000</td>\n",
       "      <td>26216.000000</td>\n",
       "      <td>26216.000000</td>\n",
       "      <td>26216.000000</td>\n",
       "      <td>26216.000000</td>\n",
       "      <td>26216.000000</td>\n",
       "      <td>26216.000000</td>\n",
       "      <td>26216.000000</td>\n",
       "      <td>26216.000000</td>\n",
       "      <td>26216.000000</td>\n",
       "      <td>26216.000000</td>\n",
       "      <td>26216.000000</td>\n",
       "      <td>26216.000000</td>\n",
       "      <td>26216.000000</td>\n",
       "      <td>26216.000000</td>\n",
       "      <td>26216.000000</td>\n",
       "      <td>26216.000000</td>\n",
       "      <td>26216.000000</td>\n",
       "      <td>26216.000000</td>\n",
       "      <td>26216.000000</td>\n",
       "      <td>26216.000000</td>\n",
       "      <td>26216.000000</td>\n",
       "      <td>26216.000000</td>\n",
       "      <td>26216.000000</td>\n",
       "      <td>26216.000000</td>\n",
       "      <td>26216.000000</td>\n",
       "    </tr>\n",
       "    <tr>\n",
       "      <th>mean</th>\n",
       "      <td>15224.82133</td>\n",
       "      <td>0.773650</td>\n",
       "      <td>0.170659</td>\n",
       "      <td>0.004501</td>\n",
       "      <td>0.414251</td>\n",
       "      <td>0.079493</td>\n",
       "      <td>0.050084</td>\n",
       "      <td>0.027617</td>\n",
       "      <td>0.017966</td>\n",
       "      <td>0.032804</td>\n",
       "      <td>0.0</td>\n",
       "      <td>0.063778</td>\n",
       "      <td>0.111497</td>\n",
       "      <td>0.088267</td>\n",
       "      <td>0.015449</td>\n",
       "      <td>0.023039</td>\n",
       "      <td>0.011367</td>\n",
       "      <td>0.033377</td>\n",
       "      <td>0.045545</td>\n",
       "      <td>0.131446</td>\n",
       "      <td>0.065037</td>\n",
       "      <td>0.045812</td>\n",
       "      <td>0.050847</td>\n",
       "      <td>0.020293</td>\n",
       "      <td>0.006065</td>\n",
       "      <td>0.010795</td>\n",
       "      <td>0.004577</td>\n",
       "      <td>0.011787</td>\n",
       "      <td>0.043904</td>\n",
       "      <td>0.278341</td>\n",
       "      <td>0.082202</td>\n",
       "      <td>0.093187</td>\n",
       "      <td>0.010757</td>\n",
       "      <td>0.093645</td>\n",
       "      <td>0.020217</td>\n",
       "      <td>0.052487</td>\n",
       "      <td>0.193584</td>\n",
       "    </tr>\n",
       "    <tr>\n",
       "      <th>std</th>\n",
       "      <td>8826.88914</td>\n",
       "      <td>0.435276</td>\n",
       "      <td>0.376218</td>\n",
       "      <td>0.066940</td>\n",
       "      <td>0.492602</td>\n",
       "      <td>0.270513</td>\n",
       "      <td>0.218122</td>\n",
       "      <td>0.163875</td>\n",
       "      <td>0.132831</td>\n",
       "      <td>0.178128</td>\n",
       "      <td>0.0</td>\n",
       "      <td>0.244361</td>\n",
       "      <td>0.314752</td>\n",
       "      <td>0.283688</td>\n",
       "      <td>0.123331</td>\n",
       "      <td>0.150031</td>\n",
       "      <td>0.106011</td>\n",
       "      <td>0.179621</td>\n",
       "      <td>0.208500</td>\n",
       "      <td>0.337894</td>\n",
       "      <td>0.246595</td>\n",
       "      <td>0.209081</td>\n",
       "      <td>0.219689</td>\n",
       "      <td>0.141003</td>\n",
       "      <td>0.077643</td>\n",
       "      <td>0.103338</td>\n",
       "      <td>0.067502</td>\n",
       "      <td>0.107927</td>\n",
       "      <td>0.204887</td>\n",
       "      <td>0.448191</td>\n",
       "      <td>0.274677</td>\n",
       "      <td>0.290700</td>\n",
       "      <td>0.103158</td>\n",
       "      <td>0.291340</td>\n",
       "      <td>0.140743</td>\n",
       "      <td>0.223011</td>\n",
       "      <td>0.395114</td>\n",
       "    </tr>\n",
       "    <tr>\n",
       "      <th>min</th>\n",
       "      <td>2.00000</td>\n",
       "      <td>0.000000</td>\n",
       "      <td>0.000000</td>\n",
       "      <td>0.000000</td>\n",
       "      <td>0.000000</td>\n",
       "      <td>0.000000</td>\n",
       "      <td>0.000000</td>\n",
       "      <td>0.000000</td>\n",
       "      <td>0.000000</td>\n",
       "      <td>0.000000</td>\n",
       "      <td>0.0</td>\n",
       "      <td>0.000000</td>\n",
       "      <td>0.000000</td>\n",
       "      <td>0.000000</td>\n",
       "      <td>0.000000</td>\n",
       "      <td>0.000000</td>\n",
       "      <td>0.000000</td>\n",
       "      <td>0.000000</td>\n",
       "      <td>0.000000</td>\n",
       "      <td>0.000000</td>\n",
       "      <td>0.000000</td>\n",
       "      <td>0.000000</td>\n",
       "      <td>0.000000</td>\n",
       "      <td>0.000000</td>\n",
       "      <td>0.000000</td>\n",
       "      <td>0.000000</td>\n",
       "      <td>0.000000</td>\n",
       "      <td>0.000000</td>\n",
       "      <td>0.000000</td>\n",
       "      <td>0.000000</td>\n",
       "      <td>0.000000</td>\n",
       "      <td>0.000000</td>\n",
       "      <td>0.000000</td>\n",
       "      <td>0.000000</td>\n",
       "      <td>0.000000</td>\n",
       "      <td>0.000000</td>\n",
       "      <td>0.000000</td>\n",
       "    </tr>\n",
       "    <tr>\n",
       "      <th>25%</th>\n",
       "      <td>7446.75000</td>\n",
       "      <td>1.000000</td>\n",
       "      <td>0.000000</td>\n",
       "      <td>0.000000</td>\n",
       "      <td>0.000000</td>\n",
       "      <td>0.000000</td>\n",
       "      <td>0.000000</td>\n",
       "      <td>0.000000</td>\n",
       "      <td>0.000000</td>\n",
       "      <td>0.000000</td>\n",
       "      <td>0.0</td>\n",
       "      <td>0.000000</td>\n",
       "      <td>0.000000</td>\n",
       "      <td>0.000000</td>\n",
       "      <td>0.000000</td>\n",
       "      <td>0.000000</td>\n",
       "      <td>0.000000</td>\n",
       "      <td>0.000000</td>\n",
       "      <td>0.000000</td>\n",
       "      <td>0.000000</td>\n",
       "      <td>0.000000</td>\n",
       "      <td>0.000000</td>\n",
       "      <td>0.000000</td>\n",
       "      <td>0.000000</td>\n",
       "      <td>0.000000</td>\n",
       "      <td>0.000000</td>\n",
       "      <td>0.000000</td>\n",
       "      <td>0.000000</td>\n",
       "      <td>0.000000</td>\n",
       "      <td>0.000000</td>\n",
       "      <td>0.000000</td>\n",
       "      <td>0.000000</td>\n",
       "      <td>0.000000</td>\n",
       "      <td>0.000000</td>\n",
       "      <td>0.000000</td>\n",
       "      <td>0.000000</td>\n",
       "      <td>0.000000</td>\n",
       "    </tr>\n",
       "    <tr>\n",
       "      <th>50%</th>\n",
       "      <td>15662.50000</td>\n",
       "      <td>1.000000</td>\n",
       "      <td>0.000000</td>\n",
       "      <td>0.000000</td>\n",
       "      <td>0.000000</td>\n",
       "      <td>0.000000</td>\n",
       "      <td>0.000000</td>\n",
       "      <td>0.000000</td>\n",
       "      <td>0.000000</td>\n",
       "      <td>0.000000</td>\n",
       "      <td>0.0</td>\n",
       "      <td>0.000000</td>\n",
       "      <td>0.000000</td>\n",
       "      <td>0.000000</td>\n",
       "      <td>0.000000</td>\n",
       "      <td>0.000000</td>\n",
       "      <td>0.000000</td>\n",
       "      <td>0.000000</td>\n",
       "      <td>0.000000</td>\n",
       "      <td>0.000000</td>\n",
       "      <td>0.000000</td>\n",
       "      <td>0.000000</td>\n",
       "      <td>0.000000</td>\n",
       "      <td>0.000000</td>\n",
       "      <td>0.000000</td>\n",
       "      <td>0.000000</td>\n",
       "      <td>0.000000</td>\n",
       "      <td>0.000000</td>\n",
       "      <td>0.000000</td>\n",
       "      <td>0.000000</td>\n",
       "      <td>0.000000</td>\n",
       "      <td>0.000000</td>\n",
       "      <td>0.000000</td>\n",
       "      <td>0.000000</td>\n",
       "      <td>0.000000</td>\n",
       "      <td>0.000000</td>\n",
       "      <td>0.000000</td>\n",
       "    </tr>\n",
       "    <tr>\n",
       "      <th>75%</th>\n",
       "      <td>22924.25000</td>\n",
       "      <td>1.000000</td>\n",
       "      <td>0.000000</td>\n",
       "      <td>0.000000</td>\n",
       "      <td>1.000000</td>\n",
       "      <td>0.000000</td>\n",
       "      <td>0.000000</td>\n",
       "      <td>0.000000</td>\n",
       "      <td>0.000000</td>\n",
       "      <td>0.000000</td>\n",
       "      <td>0.0</td>\n",
       "      <td>0.000000</td>\n",
       "      <td>0.000000</td>\n",
       "      <td>0.000000</td>\n",
       "      <td>0.000000</td>\n",
       "      <td>0.000000</td>\n",
       "      <td>0.000000</td>\n",
       "      <td>0.000000</td>\n",
       "      <td>0.000000</td>\n",
       "      <td>0.000000</td>\n",
       "      <td>0.000000</td>\n",
       "      <td>0.000000</td>\n",
       "      <td>0.000000</td>\n",
       "      <td>0.000000</td>\n",
       "      <td>0.000000</td>\n",
       "      <td>0.000000</td>\n",
       "      <td>0.000000</td>\n",
       "      <td>0.000000</td>\n",
       "      <td>0.000000</td>\n",
       "      <td>1.000000</td>\n",
       "      <td>0.000000</td>\n",
       "      <td>0.000000</td>\n",
       "      <td>0.000000</td>\n",
       "      <td>0.000000</td>\n",
       "      <td>0.000000</td>\n",
       "      <td>0.000000</td>\n",
       "      <td>0.000000</td>\n",
       "    </tr>\n",
       "    <tr>\n",
       "      <th>max</th>\n",
       "      <td>30265.00000</td>\n",
       "      <td>2.000000</td>\n",
       "      <td>1.000000</td>\n",
       "      <td>1.000000</td>\n",
       "      <td>1.000000</td>\n",
       "      <td>1.000000</td>\n",
       "      <td>1.000000</td>\n",
       "      <td>1.000000</td>\n",
       "      <td>1.000000</td>\n",
       "      <td>1.000000</td>\n",
       "      <td>0.0</td>\n",
       "      <td>1.000000</td>\n",
       "      <td>1.000000</td>\n",
       "      <td>1.000000</td>\n",
       "      <td>1.000000</td>\n",
       "      <td>1.000000</td>\n",
       "      <td>1.000000</td>\n",
       "      <td>1.000000</td>\n",
       "      <td>1.000000</td>\n",
       "      <td>1.000000</td>\n",
       "      <td>1.000000</td>\n",
       "      <td>1.000000</td>\n",
       "      <td>1.000000</td>\n",
       "      <td>1.000000</td>\n",
       "      <td>1.000000</td>\n",
       "      <td>1.000000</td>\n",
       "      <td>1.000000</td>\n",
       "      <td>1.000000</td>\n",
       "      <td>1.000000</td>\n",
       "      <td>1.000000</td>\n",
       "      <td>1.000000</td>\n",
       "      <td>1.000000</td>\n",
       "      <td>1.000000</td>\n",
       "      <td>1.000000</td>\n",
       "      <td>1.000000</td>\n",
       "      <td>1.000000</td>\n",
       "      <td>1.000000</td>\n",
       "    </tr>\n",
       "  </tbody>\n",
       "</table>\n",
       "</div>"
      ],
      "text/plain": [
       "                id       related       request         offer   aid_related  \\\n",
       "count  26216.00000  26216.000000  26216.000000  26216.000000  26216.000000   \n",
       "mean   15224.82133      0.773650      0.170659      0.004501      0.414251   \n",
       "std     8826.88914      0.435276      0.376218      0.066940      0.492602   \n",
       "min        2.00000      0.000000      0.000000      0.000000      0.000000   \n",
       "25%     7446.75000      1.000000      0.000000      0.000000      0.000000   \n",
       "50%    15662.50000      1.000000      0.000000      0.000000      0.000000   \n",
       "75%    22924.25000      1.000000      0.000000      0.000000      1.000000   \n",
       "max    30265.00000      2.000000      1.000000      1.000000      1.000000   \n",
       "\n",
       "       medical_help  medical_products  search_and_rescue      security  \\\n",
       "count  26216.000000      26216.000000       26216.000000  26216.000000   \n",
       "mean       0.079493          0.050084           0.027617      0.017966   \n",
       "std        0.270513          0.218122           0.163875      0.132831   \n",
       "min        0.000000          0.000000           0.000000      0.000000   \n",
       "25%        0.000000          0.000000           0.000000      0.000000   \n",
       "50%        0.000000          0.000000           0.000000      0.000000   \n",
       "75%        0.000000          0.000000           0.000000      0.000000   \n",
       "max        1.000000          1.000000           1.000000      1.000000   \n",
       "\n",
       "           military  child_alone         water          food       shelter  \\\n",
       "count  26216.000000      26216.0  26216.000000  26216.000000  26216.000000   \n",
       "mean       0.032804          0.0      0.063778      0.111497      0.088267   \n",
       "std        0.178128          0.0      0.244361      0.314752      0.283688   \n",
       "min        0.000000          0.0      0.000000      0.000000      0.000000   \n",
       "25%        0.000000          0.0      0.000000      0.000000      0.000000   \n",
       "50%        0.000000          0.0      0.000000      0.000000      0.000000   \n",
       "75%        0.000000          0.0      0.000000      0.000000      0.000000   \n",
       "max        1.000000          0.0      1.000000      1.000000      1.000000   \n",
       "\n",
       "           clothing         money  missing_people      refugees         death  \\\n",
       "count  26216.000000  26216.000000    26216.000000  26216.000000  26216.000000   \n",
       "mean       0.015449      0.023039        0.011367      0.033377      0.045545   \n",
       "std        0.123331      0.150031        0.106011      0.179621      0.208500   \n",
       "min        0.000000      0.000000        0.000000      0.000000      0.000000   \n",
       "25%        0.000000      0.000000        0.000000      0.000000      0.000000   \n",
       "50%        0.000000      0.000000        0.000000      0.000000      0.000000   \n",
       "75%        0.000000      0.000000        0.000000      0.000000      0.000000   \n",
       "max        1.000000      1.000000        1.000000      1.000000      1.000000   \n",
       "\n",
       "          other_aid  infrastructure_related     transport     buildings  \\\n",
       "count  26216.000000         26216.000000     26216.000000  26216.000000   \n",
       "mean       0.131446             0.065037         0.045812      0.050847   \n",
       "std        0.337894             0.246595         0.209081      0.219689   \n",
       "min        0.000000             0.000000         0.000000      0.000000   \n",
       "25%        0.000000             0.000000         0.000000      0.000000   \n",
       "50%        0.000000             0.000000         0.000000      0.000000   \n",
       "75%        0.000000             0.000000         0.000000      0.000000   \n",
       "max        1.000000             1.000000         1.000000      1.000000   \n",
       "\n",
       "        electricity         tools     hospitals         shops   aid_centers  \\\n",
       "count  26216.000000  26216.000000  26216.000000  26216.000000  26216.000000   \n",
       "mean       0.020293      0.006065      0.010795      0.004577      0.011787   \n",
       "std        0.141003      0.077643      0.103338      0.067502      0.107927   \n",
       "min        0.000000      0.000000      0.000000      0.000000      0.000000   \n",
       "25%        0.000000      0.000000      0.000000      0.000000      0.000000   \n",
       "50%        0.000000      0.000000      0.000000      0.000000      0.000000   \n",
       "75%        0.000000      0.000000      0.000000      0.000000      0.000000   \n",
       "max        1.000000      1.000000      1.000000      1.000000      1.000000   \n",
       "\n",
       "       other_infrastructure  weather_related        floods         storm  \\\n",
       "count         26216.000000      26216.000000  26216.000000  26216.000000   \n",
       "mean              0.043904          0.278341      0.082202      0.093187   \n",
       "std               0.204887          0.448191      0.274677      0.290700   \n",
       "min               0.000000          0.000000      0.000000      0.000000   \n",
       "25%               0.000000          0.000000      0.000000      0.000000   \n",
       "50%               0.000000          0.000000      0.000000      0.000000   \n",
       "75%               0.000000          1.000000      0.000000      0.000000   \n",
       "max               1.000000          1.000000      1.000000      1.000000   \n",
       "\n",
       "               fire    earthquake          cold  other_weather  direct_report  \n",
       "count  26216.000000  26216.000000  26216.000000   26216.000000   26216.000000  \n",
       "mean       0.010757      0.093645      0.020217       0.052487       0.193584  \n",
       "std        0.103158      0.291340      0.140743       0.223011       0.395114  \n",
       "min        0.000000      0.000000      0.000000       0.000000       0.000000  \n",
       "25%        0.000000      0.000000      0.000000       0.000000       0.000000  \n",
       "50%        0.000000      0.000000      0.000000       0.000000       0.000000  \n",
       "75%        0.000000      0.000000      0.000000       0.000000       0.000000  \n",
       "max        1.000000      1.000000      1.000000       1.000000       1.000000  "
      ]
     },
     "execution_count": 5,
     "metadata": {},
     "output_type": "execute_result"
    }
   ],
   "source": [
    "df.describe()"
   ]
  },
  {
   "cell_type": "code",
   "execution_count": 6,
   "metadata": {},
   "outputs": [
    {
     "data": {
      "text/plain": [
       "array(['id', 'related'], dtype=object)"
      ]
     },
     "execution_count": 6,
     "metadata": {},
     "output_type": "execute_result"
    }
   ],
   "source": [
    "#finding columns that has values more than 1\n",
    "temp = df.describe().loc['max']>1\n",
    "df.describe().columns[temp].values"
   ]
  },
  {
   "cell_type": "code",
   "execution_count": 7,
   "metadata": {},
   "outputs": [
    {
     "data": {
      "text/plain": [
       "1    19906\n",
       "0     6122\n",
       "2      188\n",
       "Name: related, dtype: int64"
      ]
     },
     "execution_count": 7,
     "metadata": {},
     "output_type": "execute_result"
    }
   ],
   "source": [
    "#Check for distinct counts of each values of related column\n",
    "df['related'].value_counts()"
   ]
  },
  {
   "cell_type": "code",
   "execution_count": 8,
   "metadata": {},
   "outputs": [],
   "source": [
    "# Since the related column has values either 1 or 2 and has 188 values stored as 2,\n",
    "#hence before we proceed lets replace these values with 1 to consder it as a valid response.\n",
    "df['related']=df['related'].map(lambda x: 1 if x == 2 else x)"
   ]
  },
  {
   "cell_type": "code",
   "execution_count": 9,
   "metadata": {},
   "outputs": [
    {
     "data": {
      "text/plain": [
       "1    20094\n",
       "0     6122\n",
       "Name: related, dtype: int64"
      ]
     },
     "execution_count": 9,
     "metadata": {},
     "output_type": "execute_result"
    }
   ],
   "source": [
    "#Notice values with 2 are replaced with 1\n",
    "df['related'].value_counts()"
   ]
  },
  {
   "cell_type": "code",
   "execution_count": 10,
   "metadata": {},
   "outputs": [
    {
     "data": {
      "text/plain": [
       "Index(['child_alone'], dtype='object')"
      ]
     },
     "execution_count": 10,
     "metadata": {},
     "output_type": "execute_result"
    }
   ],
   "source": [
    "#Findout the columns that are having only one unique value stored in the dataframe\n",
    "df.columns[df.nunique() == 1]"
   ]
  },
  {
   "cell_type": "code",
   "execution_count": 11,
   "metadata": {},
   "outputs": [
    {
     "data": {
      "text/plain": [
       "0    26216\n",
       "Name: child_alone, dtype: int64"
      ]
     },
     "execution_count": 11,
     "metadata": {},
     "output_type": "execute_result"
    }
   ],
   "source": [
    "#Check for distinct counts of each values of child_alone column\n",
    "df.child_alone.value_counts()"
   ]
  },
  {
   "cell_type": "code",
   "execution_count": 12,
   "metadata": {},
   "outputs": [],
   "source": [
    "#Lets drop the child_alone column since it has all zero values\n",
    "df.drop(['child_alone'],axis=1, inplace = True)"
   ]
  },
  {
   "cell_type": "code",
   "execution_count": 13,
   "metadata": {},
   "outputs": [],
   "source": [
    "# Extract X and y variables from the data for the modelling\n",
    "X = df['message']\n",
    "y = df.iloc[:,4:]"
   ]
  },
  {
   "cell_type": "code",
   "execution_count": 14,
   "metadata": {},
   "outputs": [
    {
     "name": "stdout",
     "output_type": "stream",
     "text": [
      "Feature Variable:-------------------------------- \n",
      " 0    Weather update -...\n",
      "1    Is the Hurricane...\n",
      "2    Looking for some...\n",
      "Name: message, dtype: object \n",
      " \n",
      "********************************************************* \n",
      " Target Variables:-------------------------------- \n",
      "    related  request  ...  other_weather  direct_report\n",
      "0        1        0  ...              0              0\n",
      "1        1        0  ...              0              0\n",
      "2        1        0  ...              0              0\n",
      "\n",
      "[3 rows x 35 columns]\n"
     ]
    }
   ],
   "source": [
    "pd.set_option('display.max_columns', 5)\n",
    "pd.set_option('display.max_colwidth', 20)\n",
    "print('Feature Variable:-------------------------------- \\n', X.head(3), '\\n', '\\n*********************************************************', '\\n', 'Target Variables:-------------------------------- \\n',  y.head(3))\n",
    "pd.set_option('display.max_columns', 100)"
   ]
  },
  {
   "cell_type": "markdown",
   "metadata": {},
   "source": [
    "### 2. Write a tokenization function to process your text data"
   ]
  },
  {
   "cell_type": "code",
   "execution_count": 15,
   "metadata": {},
   "outputs": [],
   "source": [
    "def tokenize(text,url_place_holder_string=\"urlplaceholder\"):\n",
    "    '''\n",
    "    Tokenize the input string\n",
    "    \n",
    "    Input:\n",
    "        text -> Text message which needs to be tokenized\n",
    "    Output:\n",
    "        clean_tokens -> List of tokens extracted from the input text message\n",
    "    '''\n",
    "    \n",
    "    # Replace all urls with a default urlplaceholder string\n",
    "    url_regex = 'http[s]?://(?:[a-zA-Z]|[0-9]|[$-_@.&+]|[!*\\(\\),]|(?:%[0-9a-fA-F][0-9a-fA-F]))+'\n",
    "    \n",
    "    # find all urls from the input text \n",
    "    detected_urls = re.findall(url_regex, text)\n",
    "    \n",
    "    # Replace the url with the default url placeholder string\n",
    "    for url in detected_urls:\n",
    "        text = text.replace(url, url_place_holder_string)\n",
    "\n",
    "    # Extract word tokens from the input text\n",
    "    tokens = word_tokenize(text)\n",
    "    \n",
    "    #Lemmatize to remove different inflected forms of a word so they can be analysed as a single item\n",
    "    final_tokens = [WordNetLemmatizer().lemmatize(w).lower().strip() for w in tokens]\n",
    "    return final_tokens"
   ]
  },
  {
   "cell_type": "code",
   "execution_count": 16,
   "metadata": {},
   "outputs": [
    {
     "data": {
      "text/plain": [
       "['urlplaceholder', 'hi', ',', 'this', 'is', 'for', 'testing']"
      ]
     },
     "execution_count": 16,
     "metadata": {},
     "output_type": "execute_result"
    }
   ],
   "source": [
    "#Testing the tokenize function\n",
    "text = 'https://www.google.com Hi, This is for testing'\n",
    "tokenize(text)"
   ]
  },
  {
   "cell_type": "markdown",
   "metadata": {},
   "source": [
    "### 3. Build a machine learning pipeline\n",
    "This machine pipeline should take in the `message` column as input and output classification results on the other 36 categories in the dataset. You may find the [MultiOutputClassifier](http://scikit-learn.org/stable/modules/generated/sklearn.multioutput.MultiOutputClassifier.html) helpful for predicting multiple target variables."
   ]
  },
  {
   "cell_type": "code",
   "execution_count": 17,
   "metadata": {},
   "outputs": [],
   "source": [
    "# Building the Machine learning pipeline \n",
    "def model_pipeline():\n",
    "\n",
    "    pipeline = Pipeline([\n",
    "            ('features', FeatureUnion([\n",
    "\n",
    "                ('text_pipeline', Pipeline([\n",
    "                    ('count_vectorizer', CountVectorizer(tokenizer=tokenize)),\n",
    "                    ('tfidf_transformer', TfidfTransformer())\n",
    "                ]))\n",
    "\n",
    "            ])),\n",
    "\n",
    "            ('classifier', MultiOutputClassifier(AdaBoostClassifier()))\n",
    "        ])\n",
    "\n",
    "    return pipeline"
   ]
  },
  {
   "cell_type": "markdown",
   "metadata": {},
   "source": [
    "### 4. Train pipeline\n",
    "- Split data into train and test sets\n",
    "- Train pipeline"
   ]
  },
  {
   "cell_type": "code",
   "execution_count": 18,
   "metadata": {},
   "outputs": [
    {
     "name": "stdout",
     "output_type": "stream",
     "text": [
      "Building and Training of model Started at: 2021-03-13 14:05:15\n",
      "Building and Training of model completed at: 2021-03-13 14:06:49\n",
      "Building and Training of model took 94.19 seconds\n"
     ]
    }
   ],
   "source": [
    "# Split the data into train and test sets and train the pipeline\n",
    "X_train, X_test, y_train, y_test = train_test_split(X, y)\n",
    "\n",
    "##Added time functions to check how long it takes to train the pipeline\n",
    "start = time.time()\n",
    "print('Building and Training of model Started at:', time.strftime('%Y-%m-%d %H:%M:%S', time.localtime(start)))\n",
    "\n",
    "pipeline_model = model_pipeline().fit(X_train, y_train)\n",
    "\n",
    "end = time.time()\n",
    "print('Building and Training of model completed at:', time.strftime('%Y-%m-%d %H:%M:%S', time.localtime(end)))\n",
    "print('Building and Training of model took {} seconds'.format(round((end - start), 2)))"
   ]
  },
  {
   "cell_type": "markdown",
   "metadata": {},
   "source": [
    "### 5. Test your model\n",
    "Report the f1 score, precision and recall for each output category of the dataset. You can do this by iterating through the columns and calling sklearn's `classification_report` on each."
   ]
  },
  {
   "cell_type": "code",
   "execution_count": 19,
   "metadata": {},
   "outputs": [],
   "source": [
    "y_pred_train = pipeline_model.predict(X_train)\n",
    "y_pred_test = pipeline_model.predict(X_test)"
   ]
  },
  {
   "cell_type": "code",
   "execution_count": 20,
   "metadata": {},
   "outputs": [
    {
     "name": "stdout",
     "output_type": "stream",
     "text": [
      "Input test string to test:  ['We have lost few of our family members, need some shelters to stay, we are running out of money and homeless, need your urgent help.']\n",
      "Predicted results are: ['related' 'request' 'aid_related' 'shelter' 'money' 'refugees'\n",
      " 'buildings' 'direct_report']\n"
     ]
    }
   ],
   "source": [
    "test_text = ['We have lost few of our family members, need some shelters to stay, we are running out of money and homeless, need your urgent help.']\n",
    "test_result = pipeline_model.predict(test_text)\n",
    "print(\"Input test string to test: \", test_text)\n",
    "print(\"Predicted results are:\",y_train.columns.values[(test_result.flatten()==1)])"
   ]
  },
  {
   "cell_type": "code",
   "execution_count": 22,
   "metadata": {},
   "outputs": [
    {
     "name": "stdout",
     "output_type": "stream",
     "text": [
      "\n",
      "                         precision    recall  f1-score   support\n",
      "\n",
      "               related       0.83      0.93      0.88      5060\n",
      "               request       0.78      0.54      0.64      1176\n",
      "                 offer       0.00      0.00      0.00        31\n",
      "           aid_related       0.78      0.59      0.67      2774\n",
      "          medical_help       0.61      0.28      0.38       543\n",
      "      medical_products       0.66      0.32      0.43       341\n",
      "     search_and_rescue       0.50      0.15      0.23       156\n",
      "              security       0.33      0.04      0.07       123\n",
      "              military       0.60      0.34      0.43       220\n",
      "                 water       0.76      0.63      0.68       435\n",
      "                  food       0.84      0.69      0.75       776\n",
      "               shelter       0.79      0.57      0.67       585\n",
      "              clothing       0.72      0.38      0.50       102\n",
      "                 money       0.55      0.28      0.37       150\n",
      "        missing_people       0.61      0.14      0.23        76\n",
      "              refugees       0.57      0.23      0.32       198\n",
      "                 death       0.74      0.41      0.53       309\n",
      "             other_aid       0.46      0.15      0.23       835\n",
      "infrastructure_related       0.35      0.07      0.12       430\n",
      "             transport       0.59      0.21      0.31       284\n",
      "             buildings       0.61      0.38      0.47       295\n",
      "           electricity       0.50      0.26      0.35       121\n",
      "                 tools       0.11      0.03      0.04        39\n",
      "             hospitals       0.32      0.09      0.14        78\n",
      "                 shops       0.20      0.04      0.07        25\n",
      "           aid_centers       0.31      0.11      0.16        75\n",
      "  other_infrastructure       0.31      0.07      0.11       293\n",
      "       weather_related       0.85      0.67      0.75      1816\n",
      "                floods       0.83      0.56      0.67       546\n",
      "                 storm       0.78      0.51      0.62       617\n",
      "                  fire       0.63      0.20      0.30        61\n",
      "            earthquake       0.87      0.79      0.83       599\n",
      "                  cold       0.71      0.38      0.50       128\n",
      "         other_weather       0.47      0.15      0.23       338\n",
      "         direct_report       0.72      0.48      0.58      1306\n",
      "\n",
      "             micro avg       0.78      0.58      0.67     20941\n",
      "             macro avg       0.58      0.33      0.41     20941\n",
      "          weighted avg       0.74      0.58      0.63     20941\n",
      "           samples avg       0.64      0.51      0.52     20941\n",
      "\n"
     ]
    }
   ],
   "source": [
    "# Print classification report on test data\n",
    "print('\\n', classification_report(y_test.values, y_pred_test, target_names=y.columns.values))"
   ]
  },
  {
   "cell_type": "code",
   "execution_count": 23,
   "metadata": {},
   "outputs": [
    {
     "name": "stdout",
     "output_type": "stream",
     "text": [
      "\n",
      "                         precision    recall  f1-score   support\n",
      "\n",
      "               related       0.83      0.94      0.88     15034\n",
      "               request       0.78      0.55      0.64      3298\n",
      "                 offer       0.33      0.06      0.10        87\n",
      "           aid_related       0.77      0.59      0.67      8086\n",
      "          medical_help       0.67      0.30      0.41      1541\n",
      "      medical_products       0.70      0.35      0.47       972\n",
      "     search_and_rescue       0.69      0.22      0.34       568\n",
      "              security       0.46      0.06      0.11       348\n",
      "              military       0.67      0.38      0.49       640\n",
      "                 water       0.78      0.65      0.71      1237\n",
      "                  food       0.82      0.70      0.75      2147\n",
      "               shelter       0.79      0.53      0.64      1729\n",
      "              clothing       0.79      0.51      0.62       303\n",
      "                 money       0.63      0.33      0.44       454\n",
      "        missing_people       0.70      0.25      0.37       222\n",
      "              refugees       0.64      0.25      0.36       677\n",
      "                 death       0.77      0.45      0.57       885\n",
      "             other_aid       0.59      0.16      0.25      2611\n",
      "infrastructure_related       0.56      0.11      0.19      1275\n",
      "             transport       0.71      0.29      0.41       917\n",
      "             buildings       0.70      0.42      0.53      1038\n",
      "           electricity       0.66      0.33      0.44       411\n",
      "                 tools       0.44      0.07      0.12       120\n",
      "             hospitals       0.44      0.12      0.19       205\n",
      "                 shops       0.62      0.08      0.15        95\n",
      "           aid_centers       0.48      0.12      0.20       234\n",
      "  other_infrastructure       0.48      0.11      0.18       858\n",
      "       weather_related       0.86      0.66      0.75      5481\n",
      "                floods       0.87      0.57      0.69      1609\n",
      "                 storm       0.79      0.48      0.60      1826\n",
      "                  fire       0.64      0.27      0.38       221\n",
      "            earthquake       0.89      0.80      0.85      1856\n",
      "                  cold       0.74      0.33      0.46       402\n",
      "         other_weather       0.58      0.19      0.29      1038\n",
      "         direct_report       0.75      0.48      0.59      3769\n",
      "\n",
      "             micro avg       0.80      0.59      0.68     62194\n",
      "             macro avg       0.67      0.36      0.45     62194\n",
      "          weighted avg       0.77      0.59      0.65     62194\n",
      "           samples avg       0.65      0.51      0.53     62194\n",
      "\n"
     ]
    }
   ],
   "source": [
    "# Print classification report on training data\n",
    "print('\\n',classification_report(y_train.values, y_pred_train, target_names=y.columns.values))"
   ]
  },
  {
   "cell_type": "markdown",
   "metadata": {},
   "source": [
    "### 6. Improve your model\n",
    "Use grid search to find better parameters. "
   ]
  },
  {
   "cell_type": "markdown",
   "metadata": {},
   "source": [
    "##### Create a performance metric function to define in Grid Search scoring target"
   ]
  },
  {
   "cell_type": "code",
   "execution_count": 24,
   "metadata": {},
   "outputs": [],
   "source": [
    "# Create a performance metric function to define in Grid Search scoring target\n",
    "def multioutput_fscore(y_true,y_pred,beta=1):\n",
    "    \"\"\"    \n",
    "    This is a performance metric function to define Grid Search scoring target   \n",
    "    It is a kind of geometric mean of the fbeta_score, computed on each label.\n",
    "\n",
    "    The objective here is to avoid issues when dealing with multi-class/multi-label imbalanced cases.\n",
    "             \n",
    "    Inputs:\n",
    "        y_true -> List of labels\n",
    "        y_prod -> List of predictions\n",
    "        beta -> Beta value to be used to calculate fscore metric\n",
    "    \n",
    "    Output:\n",
    "        f1score -> Calculation geometric mean of fscore\n",
    "    \"\"\"\n",
    "    \n",
    "    # If y predictions is a dataframe, then extract and store the values\n",
    "    if isinstance(y_pred, pd.DataFrame) == True:\n",
    "        y_pred = y_pred.values\n",
    "    \n",
    "    # If y actuals is a dataframe, then extract and store the values\n",
    "    if isinstance(y_true, pd.DataFrame) == True:\n",
    "        y_true = y_true.values\n",
    "    \n",
    "    f1score_list = []\n",
    "    for column in range(0,y_true.shape[1]):\n",
    "        score = fbeta_score(y_true[:,column],y_pred[:,column],beta,average='weighted')\n",
    "        f1score_list.append(score)\n",
    "        \n",
    "    f1score = np.asarray(f1score_list)\n",
    "    f1score = f1score[f1score<1]\n",
    "    \n",
    "    # Get the geometric mean of f1score\n",
    "    f1score = gmean(f1score)\n",
    "    return f1score"
   ]
  },
  {
   "cell_type": "code",
   "execution_count": 25,
   "metadata": {},
   "outputs": [
    {
     "name": "stdout",
     "output_type": "stream",
     "text": [
      "Building and Training of model using GridSearchCV Started at: 2021-03-13 14:13:03\n",
      "Building and Training of model using GridSearchCV Completed at: 2021-03-13 14:19:56\n",
      "Building and Training of model using GridSearch took 412.23 seconds\n"
     ]
    }
   ],
   "source": [
    "parameters = {'classifier__estimator__learning_rate': [0.01, 0.02, 0.05],\n",
    "              'classifier__estimator__n_estimators': [10, 20, 40]}\n",
    "\n",
    "# Split the data into train and test sets and train the pipeline\n",
    "X_train, X_test, y_train, y_test = train_test_split(X, y)\n",
    "\n",
    "scorer = make_scorer(multioutput_fscore, greater_is_better = True)\n",
    "\n",
    "start = time.time()\n",
    "print('Building and Training of model using GridSearchCV Started at:', time.strftime('%Y-%m-%d %H:%M:%S', time.localtime(start)))\n",
    "\n",
    "# Fit and train the pipeline using grid search cross validator\n",
    "cv = GridSearchCV(model_pipeline(), param_grid=parameters, scoring=scorer, n_jobs=-1)\n",
    "cv.fit(X_train, y_train)\n",
    "\n",
    "end = time.time()\n",
    "print('Building and Training of model using GridSearchCV Completed at:', time.strftime('%Y-%m-%d %H:%M:%S', time.localtime(end)))\n",
    "print('Building and Training of model using GridSearch took {} seconds'.format(round((end - start), 2)))"
   ]
  },
  {
   "cell_type": "markdown",
   "metadata": {},
   "source": [
    "### 7. Test your model\n",
    "Show the accuracy, precision, and recall of the tuned model.  \n",
    "\n",
    "Since this project focuses on code quality, process, and  pipelines, there is no minimum performance metric needed to pass. However, make sure to fine tune your models for accuracy, precision and recall to make your project stand out - especially for your portfolio!"
   ]
  },
  {
   "cell_type": "code",
   "execution_count": 28,
   "metadata": {},
   "outputs": [
    {
     "name": "stdout",
     "output_type": "stream",
     "text": [
      "\n",
      "                         precision    recall  f1-score   support\n",
      "\n",
      "               related       0.77      1.00      0.87      5049\n",
      "               request       0.59      0.40      0.48      1085\n",
      "                 offer       0.00      0.00      0.00        35\n",
      "           aid_related       0.80      0.19      0.31      2687\n",
      "          medical_help       0.58      0.11      0.18       526\n",
      "      medical_products       0.72      0.10      0.17       341\n",
      "     search_and_rescue       0.68      0.14      0.24       188\n",
      "              security       0.00      0.00      0.00       119\n",
      "              military       0.46      0.11      0.18       202\n",
      "                 water       0.57      0.85      0.68       412\n",
      "                  food       0.77      0.67      0.72       735\n",
      "               shelter       0.84      0.30      0.44       532\n",
      "              clothing       1.00      0.01      0.02       105\n",
      "                 money       1.00      0.01      0.03       148\n",
      "        missing_people       0.67      0.23      0.34        69\n",
      "              refugees       0.52      0.13      0.21       217\n",
      "                 death       0.68      0.16      0.25       321\n",
      "             other_aid       0.00      0.00      0.00       870\n",
      "infrastructure_related       0.00      0.00      0.00       392\n",
      "             transport       0.63      0.26      0.37       313\n",
      "             buildings       0.00      0.00      0.00       320\n",
      "           electricity       0.00      0.00      0.00       127\n",
      "                 tools       0.00      0.00      0.00        39\n",
      "             hospitals       0.00      0.00      0.00        62\n",
      "                 shops       0.00      0.00      0.00        19\n",
      "           aid_centers       0.00      0.00      0.00        68\n",
      "  other_infrastructure       0.00      0.00      0.00       284\n",
      "       weather_related       0.91      0.22      0.36      1858\n",
      "                floods       0.92      0.33      0.48       570\n",
      "                 storm       0.74      0.25      0.37       633\n",
      "                  fire       0.53      0.36      0.43        81\n",
      "            earthquake       0.90      0.64      0.75       633\n",
      "                  cold       0.74      0.23      0.36       145\n",
      "         other_weather       0.69      0.13      0.22       349\n",
      "         direct_report       0.63      0.39      0.49      1230\n",
      "\n",
      "             micro avg       0.75      0.44      0.55     20764\n",
      "             macro avg       0.50      0.21      0.26     20764\n",
      "          weighted avg       0.67      0.44      0.47     20764\n",
      "           samples avg       0.71      0.45      0.49     20764\n",
      "\n"
     ]
    }
   ],
   "source": [
    "y_pred_test = cv.predict(X_test)\n",
    "y_pred_train = cv.predict(X_train)\n",
    "\n",
    "# Print classification report on test data\n",
    "print('\\n',classification_report(y_test.values, y_pred_test, target_names=y.columns.values))"
   ]
  },
  {
   "cell_type": "code",
   "execution_count": 29,
   "metadata": {},
   "outputs": [
    {
     "name": "stdout",
     "output_type": "stream",
     "text": [
      "\n",
      "                         precision    recall  f1-score   support\n",
      "\n",
      "               related       0.77      1.00      0.87     15045\n",
      "               request       0.61      0.38      0.47      3389\n",
      "                 offer       1.00      0.06      0.11        83\n",
      "           aid_related       0.80      0.19      0.31      8173\n",
      "          medical_help       0.65      0.12      0.20      1558\n",
      "      medical_products       0.73      0.14      0.23       972\n",
      "     search_and_rescue       0.63      0.21      0.31       536\n",
      "              security       0.00      0.00      0.00       352\n",
      "              military       0.53      0.15      0.23       658\n",
      "                 water       0.58      0.84      0.69      1260\n",
      "                  food       0.77      0.68      0.72      2188\n",
      "               shelter       0.84      0.29      0.44      1782\n",
      "              clothing       0.50      0.00      0.01       300\n",
      "                 money       1.00      0.00      0.01       456\n",
      "        missing_people       0.69      0.25      0.37       229\n",
      "              refugees       0.63      0.18      0.29       658\n",
      "                 death       0.78      0.17      0.28       873\n",
      "             other_aid       0.00      0.00      0.00      2576\n",
      "infrastructure_related       0.00      0.00      0.00      1313\n",
      "             transport       0.56      0.24      0.34       888\n",
      "             buildings       0.00      0.00      0.00      1013\n",
      "           electricity       0.00      0.00      0.00       405\n",
      "                 tools       0.00      0.00      0.00       120\n",
      "             hospitals       0.00      0.00      0.00       221\n",
      "                 shops       1.00      0.04      0.08       101\n",
      "           aid_centers       0.00      0.00      0.00       241\n",
      "  other_infrastructure       0.00      0.00      0.00       867\n",
      "       weather_related       0.91      0.22      0.36      5439\n",
      "                floods       0.91      0.34      0.50      1585\n",
      "                 storm       0.73      0.26      0.39      1810\n",
      "                  fire       0.51      0.41      0.46       201\n",
      "            earthquake       0.89      0.65      0.75      1822\n",
      "                  cold       0.67      0.21      0.32       385\n",
      "         other_weather       0.55      0.11      0.19      1027\n",
      "         direct_report       0.63      0.39      0.48      3845\n",
      "\n",
      "             micro avg       0.75      0.44      0.55     62371\n",
      "             macro avg       0.54      0.22      0.27     62371\n",
      "          weighted avg       0.67      0.44      0.47     62371\n",
      "           samples avg       0.70      0.45      0.49     62371\n",
      "\n"
     ]
    }
   ],
   "source": [
    "# Print classification report on training data\n",
    "print('\\n',classification_report(y_train.values, y_pred_train, target_names=y.columns.values))"
   ]
  },
  {
   "cell_type": "code",
   "execution_count": 30,
   "metadata": {},
   "outputs": [
    {
     "name": "stdout",
     "output_type": "stream",
     "text": [
      "F1 score (custom definition) 91.27%\n",
      "Average overall accuracy 93.57%\n"
     ]
    }
   ],
   "source": [
    "#Find f1 score and Overacl accuracy of model_pipeline using GridsearchCV\n",
    "multioutput_f1_1 = multioutput_fscore(y_test,y_pred_test, beta = 1)\n",
    "overall_accuracy_1 = (y_pred_test == y_test).mean().mean()\n",
    "\n",
    "print('F1 score (custom definition) {0:.2f}%'.format(multioutput_f1_1*100))\n",
    "print('Average overall accuracy {0:.2f}%'.format(overall_accuracy_1*100))"
   ]
  },
  {
   "cell_type": "markdown",
   "metadata": {},
   "source": [
    "### 8. Try improving your model further. Here are a few ideas:\n",
    "* try other machine learning algorithms\n",
    "* add other features besides the TF-IDF"
   ]
  },
  {
   "cell_type": "markdown",
   "metadata": {},
   "source": [
    "#### Build a custom transformer to extract the starting verb of a sentence using our improved pipeline"
   ]
  },
  {
   "cell_type": "code",
   "execution_count": 31,
   "metadata": {},
   "outputs": [],
   "source": [
    "#Build a custom transformer to extract the starting verb of a sentence\n",
    "class StartingVerbExtractor(BaseEstimator, TransformerMixin):\n",
    "    \"\"\"\n",
    "    Starting Verb Extractor class    \n",
    "    It extract the starting verb of a sentence and creates a new feature for the ML classifier\n",
    "    \n",
    "    \"\"\"\n",
    "    def starting_verb(self, text):\n",
    "        sentence_list = nltk.sent_tokenize(text)\n",
    "        for sentence in sentence_list:\n",
    "            pos_tags = nltk.pos_tag(tokenize(sentence))\n",
    "            first_word, first_tag = pos_tags[0]\n",
    "            if first_tag in ['VB', 'VBP'] or first_word == 'RT':\n",
    "                return True\n",
    "        return False\n",
    "\n",
    "    # Given it is a tranformer we can return the self \n",
    "    def fit(self, X, y=None):\n",
    "        return self\n",
    "\n",
    "    def transform(self, X):\n",
    "        X_tagged = pd.Series(X).apply(self.starting_verb)\n",
    "        return pd.DataFrame(X_tagged)"
   ]
  },
  {
   "cell_type": "markdown",
   "metadata": {},
   "source": [
    "#### Creating an improved pipeline"
   ]
  },
  {
   "cell_type": "code",
   "execution_count": 32,
   "metadata": {},
   "outputs": [],
   "source": [
    "def improved_pipeline():\n",
    "    pipeline = Pipeline([\n",
    "        ('features', FeatureUnion([\n",
    "\n",
    "            ('text_pipeline', Pipeline([\n",
    "                ('vect', CountVectorizer(tokenizer=tokenize)),\n",
    "                ('tfidf', TfidfTransformer())\n",
    "            ])),\n",
    "\n",
    "            ('starting_verb', StartingVerbExtractor())\n",
    "        ])),\n",
    "\n",
    "        ('classifier', MultiOutputClassifier(AdaBoostClassifier()))\n",
    "    ])\n",
    "    return pipeline"
   ]
  },
  {
   "cell_type": "markdown",
   "metadata": {},
   "source": [
    "#### Build and Train the improved pipeline"
   ]
  },
  {
   "cell_type": "code",
   "execution_count": 33,
   "metadata": {},
   "outputs": [
    {
     "name": "stdout",
     "output_type": "stream",
     "text": [
      "Building and Training of Improved Pipeline Started at: 2021-03-13 14:23:34\n",
      "Building and Training of Improved Pipeline Completed at:: 2021-03-13 14:25:41\n",
      "Building and Training of Improved Pipeline took 127.01 Seconds\n"
     ]
    }
   ],
   "source": [
    "#Build and Train the improved pipeline which includes StartingVerbEstimator\n",
    "X_train, X_test, y_train, y_test = train_test_split(X, y)\n",
    "start = time.time()\n",
    "print('Building and Training of Improved Pipeline Started at:', time.strftime('%Y-%m-%d %H:%M:%S', time.localtime(start)))\n",
    "\n",
    "pipeline_improved_model = improved_pipeline().fit(X_train, y_train)\n",
    "\n",
    "end = time.time()\n",
    "print('Building and Training of Improved Pipeline Completed at::', time.strftime('%Y-%m-%d %H:%M:%S', time.localtime(end)))\n",
    "print('Building and Training of Improved Pipeline took {} Seconds'.format(round((end - start), 2)))"
   ]
  },
  {
   "cell_type": "code",
   "execution_count": 35,
   "metadata": {},
   "outputs": [
    {
     "name": "stdout",
     "output_type": "stream",
     "text": [
      "\n",
      "                         precision    recall  f1-score   support\n",
      "\n",
      "               related       0.83      0.94      0.88      5048\n",
      "               request       0.75      0.54      0.63      1079\n",
      "                 offer       0.00      0.00      0.00        21\n",
      "           aid_related       0.77      0.60      0.67      2692\n",
      "          medical_help       0.66      0.27      0.38       542\n",
      "      medical_products       0.63      0.29      0.40       345\n",
      "     search_and_rescue       0.69      0.20      0.31       185\n",
      "              security       0.29      0.04      0.08       116\n",
      "              military       0.55      0.28      0.37       214\n",
      "                 water       0.73      0.59      0.65       439\n",
      "                  food       0.79      0.68      0.73       702\n",
      "               shelter       0.78      0.53      0.63       580\n",
      "              clothing       0.71      0.39      0.51       102\n",
      "                 money       0.63      0.29      0.40       155\n",
      "        missing_people       0.82      0.18      0.29        79\n",
      "              refugees       0.60      0.26      0.36       218\n",
      "                 death       0.74      0.47      0.58       303\n",
      "             other_aid       0.48      0.16      0.24       872\n",
      "infrastructure_related       0.43      0.10      0.16       421\n",
      "             transport       0.71      0.25      0.37       302\n",
      "             buildings       0.68      0.38      0.48       344\n",
      "           electricity       0.46      0.25      0.32       122\n",
      "                 tools       0.00      0.00      0.00        42\n",
      "             hospitals       0.38      0.10      0.16        79\n",
      "                 shops       0.00      0.00      0.00        23\n",
      "           aid_centers       0.24      0.08      0.12        76\n",
      "  other_infrastructure       0.38      0.09      0.14       281\n",
      "       weather_related       0.85      0.67      0.75      1861\n",
      "                floods       0.88      0.54      0.67       585\n",
      "                 storm       0.76      0.50      0.61       619\n",
      "                  fire       0.52      0.22      0.31        69\n",
      "            earthquake       0.86      0.74      0.80       618\n",
      "                  cold       0.61      0.34      0.44       145\n",
      "         other_weather       0.48      0.16      0.24       338\n",
      "         direct_report       0.74      0.47      0.57      1275\n",
      "\n",
      "             micro avg       0.77      0.58      0.66     20892\n",
      "             macro avg       0.58      0.33      0.41     20892\n",
      "          weighted avg       0.74      0.58      0.63     20892\n",
      "           samples avg       0.64      0.51      0.52     20892\n",
      "\n"
     ]
    }
   ],
   "source": [
    "y_pred_train1 = pipeline_improved_model.predict(X_train)\n",
    "y_pred_test1 = pipeline_improved_model.predict(X_test)\n",
    "\n",
    "# Print classification report on test data\n",
    "print('\\n',classification_report(y_test.values, y_pred_test1, target_names=y.columns.values))"
   ]
  },
  {
   "cell_type": "code",
   "execution_count": 36,
   "metadata": {},
   "outputs": [
    {
     "name": "stdout",
     "output_type": "stream",
     "text": [
      "\n",
      "                         precision    recall  f1-score   support\n",
      "\n",
      "               related       0.83      0.94      0.88     15046\n",
      "               request       0.79      0.56      0.65      3395\n",
      "                 offer       0.22      0.04      0.07        97\n",
      "           aid_related       0.77      0.60      0.68      8168\n",
      "          medical_help       0.64      0.27      0.38      1542\n",
      "      medical_products       0.70      0.35      0.47       968\n",
      "     search_and_rescue       0.68      0.23      0.34       539\n",
      "              security       0.55      0.10      0.17       355\n",
      "              military       0.68      0.37      0.48       646\n",
      "                 water       0.78      0.65      0.71      1233\n",
      "                  food       0.82      0.70      0.75      2221\n",
      "               shelter       0.79      0.56      0.65      1734\n",
      "              clothing       0.77      0.50      0.60       303\n",
      "                 money       0.64      0.32      0.43       449\n",
      "        missing_people       0.61      0.15      0.24       219\n",
      "              refugees       0.59      0.26      0.36       657\n",
      "                 death       0.78      0.51      0.62       891\n",
      "             other_aid       0.58      0.18      0.27      2574\n",
      "infrastructure_related       0.56      0.12      0.20      1284\n",
      "             transport       0.78      0.23      0.36       899\n",
      "             buildings       0.71      0.43      0.54       989\n",
      "           electricity       0.66      0.32      0.43       410\n",
      "                 tools       0.67      0.10      0.18       117\n",
      "             hospitals       0.44      0.16      0.23       204\n",
      "                 shops       0.40      0.04      0.07        97\n",
      "           aid_centers       0.56      0.12      0.20       233\n",
      "  other_infrastructure       0.47      0.10      0.17       870\n",
      "       weather_related       0.86      0.66      0.75      5436\n",
      "                floods       0.88      0.57      0.69      1570\n",
      "                 storm       0.77      0.53      0.63      1824\n",
      "                  fire       0.75      0.27      0.39       213\n",
      "            earthquake       0.89      0.79      0.84      1837\n",
      "                  cold       0.76      0.37      0.50       385\n",
      "         other_weather       0.56      0.17      0.26      1038\n",
      "         direct_report       0.76      0.50      0.60      3800\n",
      "\n",
      "             micro avg       0.80      0.60      0.68     62243\n",
      "             macro avg       0.68      0.36      0.45     62243\n",
      "          weighted avg       0.77      0.60      0.65     62243\n",
      "           samples avg       0.65      0.51      0.53     62243\n",
      "\n"
     ]
    }
   ],
   "source": [
    "# Print classification report on training data\n",
    "print('\\n',classification_report(y_train.values, y_pred_train1, target_names=y.columns.values))"
   ]
  },
  {
   "cell_type": "code",
   "execution_count": 37,
   "metadata": {},
   "outputs": [
    {
     "name": "stdout",
     "output_type": "stream",
     "text": [
      "F1 score (custom definition) 93.76%\n",
      "Average overall accuracy 94.64%\n"
     ]
    }
   ],
   "source": [
    "#Find the F1 Score and accuracy for the improved pipeline\n",
    "multioutput_f1_2 = multioutput_fscore(y_test,y_pred_test1, beta = 1)\n",
    "overall_accuracy_2 = (y_pred_test1 == y_test).mean().mean()\n",
    "\n",
    "print('F1 score (custom definition) {0:.2f}%'.format(multioutput_f1_2*100))\n",
    "print('Average overall accuracy {0:.2f}%'.format(overall_accuracy_2*100))"
   ]
  },
  {
   "cell_type": "markdown",
   "metadata": {},
   "source": [
    "#### Test few sample text messages"
   ]
  },
  {
   "cell_type": "code",
   "execution_count": 39,
   "metadata": {},
   "outputs": [
    {
     "name": "stdout",
     "output_type": "stream",
     "text": [
      "Input test string to test:  ['We have lost few of our family members, need some shelters to stay, we are running out of money and homeless, need your urgent help.']\n",
      "Predicted results are: ['related' 'request' 'aid_related' 'shelter' 'money' 'refugees'\n",
      " 'direct_report']\n"
     ]
    }
   ],
   "source": [
    "test_text1 = ['We have lost few of our family members, need some shelters to stay, we are running out of money and homeless, need your urgent help.']\n",
    "test_result1 = pipeline_improved_model.predict(test_text1)\n",
    "print(\"Input test string to test: \", test_text1)\n",
    "print(\"Predicted results are:\",y_train.columns.values[(test_result1.flatten()==1)])"
   ]
  },
  {
   "cell_type": "code",
   "execution_count": 40,
   "metadata": {},
   "outputs": [
    {
     "name": "stdout",
     "output_type": "stream",
     "text": [
      "Input test string to test:  ['We have no food to eat, no medicine. We cannot feed our children, please urgently help.']\n",
      "Predicted results are: ['related' 'request' 'aid_related' 'shelter' 'money' 'refugees'\n",
      " 'direct_report']\n"
     ]
    }
   ],
   "source": [
    "test_text2 = ['We have no food to eat, no medicine. We cannot feed our children, please urgently help.']\n",
    "test_result2 = pipeline_improved_model.predict(test_text1)\n",
    "print(\"Input test string to test: \", test_text2)\n",
    "print(\"Predicted results are:\",y_train.columns.values[(test_result2.flatten()==1)])"
   ]
  },
  {
   "cell_type": "markdown",
   "metadata": {},
   "source": [
    "### Extra\n",
    "#### Create a Pipeline using RandomForestClassifier"
   ]
  },
  {
   "cell_type": "code",
   "execution_count": 41,
   "metadata": {},
   "outputs": [],
   "source": [
    "# Building the Machine learning pipeline with RandomForestClassifier \n",
    "def model_pipeline_rf():\n",
    "    pipeline = Pipeline([('vect', CountVectorizer(tokenizer=tokenize)),\n",
    "                          ('tfidf', TfidfTransformer()),\n",
    "                          ('clf', MultiOutputClassifier(RandomForestClassifier()))])\n",
    "        \n",
    "    return pipeline"
   ]
  },
  {
   "cell_type": "code",
   "execution_count": 42,
   "metadata": {},
   "outputs": [
    {
     "name": "stdout",
     "output_type": "stream",
     "text": [
      "Building and Training of Pipeline with RandomForestClassifier Started at: 2021-03-13 14:32:29\n",
      "Building and Training of Pipeline with RandomForestClassifier Completed at: 2021-03-13 14:37:27\n",
      "Building and Training of Pipeline with RandomForestClassifier took 297.83 seconds\n"
     ]
    }
   ],
   "source": [
    "# Split the data into train and test sets and train the pipeline\n",
    "X_train, X_test, y_train, y_test = train_test_split(X, y)\n",
    "\n",
    "start = time.time()\n",
    "print('Building and Training of Pipeline with RandomForestClassifier Started at:', time.strftime('%Y-%m-%d %H:%M:%S', time.localtime(start)))\n",
    "\n",
    "pipeline_model_rf = model_pipeline_rf().fit(X_train, y_train)\n",
    "\n",
    "end = time.time()\n",
    "print('Building and Training of Pipeline with RandomForestClassifier Completed at:', time.strftime('%Y-%m-%d %H:%M:%S', time.localtime(end)))\n",
    "print('Building and Training of Pipeline with RandomForestClassifier took {} seconds'.format(round((end - start), 2)))"
   ]
  },
  {
   "cell_type": "code",
   "execution_count": 43,
   "metadata": {},
   "outputs": [],
   "source": [
    "y_pred_train2 = pipeline_model_rf.predict(X_train)\n",
    "y_pred_test2 = pipeline_model_rf.predict(X_test)"
   ]
  },
  {
   "cell_type": "code",
   "execution_count": 44,
   "metadata": {},
   "outputs": [
    {
     "name": "stdout",
     "output_type": "stream",
     "text": [
      "F1 score (custom definition) 92.67%\n",
      "Average overall accuracy 94.36%\n"
     ]
    }
   ],
   "source": [
    "#Find the F1 Score and accuracy for the improved pipeline\n",
    "multioutput_f1_3 = multioutput_fscore(y_test,y_pred_test2, beta = 1)\n",
    "overall_accuracy_3 = (y_pred_test2 == y_test).mean().mean()\n",
    "\n",
    "print('F1 score (custom definition) {0:.2f}%'.format(multioutput_f1_3*100))\n",
    "print('Average overall accuracy {0:.2f}%'.format(overall_accuracy_3*100))"
   ]
  },
  {
   "cell_type": "markdown",
   "metadata": {},
   "source": [
    "### 9. Export your model as a pickle file"
   ]
  },
  {
   "cell_type": "code",
   "execution_count": 45,
   "metadata": {},
   "outputs": [],
   "source": [
    "#Save the model as pickle file\n",
    "m = pickle.dumps('classifier.pkl')"
   ]
  },
  {
   "cell_type": "markdown",
   "metadata": {},
   "source": [
    "### 10. Use this notebook to complete `train.py`\n",
    "Use the template file attached in the Resources folder to write a script that runs the steps above to create a database and export a model based on a new dataset specified by the user."
   ]
  },
  {
   "cell_type": "markdown",
   "metadata": {},
   "source": [
    "#### Generate the html version of this notebook"
   ]
  },
  {
   "cell_type": "code",
   "execution_count": 46,
   "metadata": {},
   "outputs": [
    {
     "data": {
      "text/plain": [
       "0"
      ]
     },
     "execution_count": 46,
     "metadata": {},
     "output_type": "execute_result"
    }
   ],
   "source": [
    "from subprocess import call\n",
    "call(['python', '-m', 'nbconvert', 'ML Pipeline Preparation.ipynb'])"
   ]
  },
  {
   "cell_type": "code",
   "execution_count": null,
   "metadata": {},
   "outputs": [],
   "source": []
  }
 ],
 "metadata": {
  "kernelspec": {
   "display_name": "Python 3",
   "language": "python",
   "name": "python3"
  },
  "language_info": {
   "codemirror_mode": {
    "name": "ipython",
    "version": 3
   },
   "file_extension": ".py",
   "mimetype": "text/x-python",
   "name": "python",
   "nbconvert_exporter": "python",
   "pygments_lexer": "ipython3",
   "version": "3.7.10"
  }
 },
 "nbformat": 4,
 "nbformat_minor": 4
}
